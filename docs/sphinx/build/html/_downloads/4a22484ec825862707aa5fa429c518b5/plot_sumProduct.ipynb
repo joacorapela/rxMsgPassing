{
  "cells": [
    {
      "cell_type": "markdown",
      "metadata": {},
      "source": [
        "\n# Example in Figure 5.3 of [David Barber's book Bayesian Reasoning and Machine Learning](http://web4.cs.ucl.ac.uk/staff/D.Barber/textbook/090310.pdf)\n\nCalculate the marginal probability mass function p(a) from the joint pmf\nrepresented in the figure below, with the conditional pmf given in the\nfollowing tables.\n\n.. figure:: /images/fig5_3_BRML.png\n   :width: 800\n   :alt: fig 5.3 BRML\n\n   p(a,b,c,d,e)=p(a|b) p(b|c,d) p(e|d) p(c) p(d)\n\n.. table:: Variable's dimensions\n\n   ==== ====\n   Var  Dim\n   ==== ====\n   a    4\n   b    2\n   c    2\n   d    3\n   e    5\n   ==== ====\n\n.. table:: p(a|b)\n\n   ==== ==== ====\n   a\\\\b  0    1\n   ==== ==== ====\n   0    0.4  0.0\n   1    0.2  0.1\n   2    0.4  0.2\n   3    0.0  0.7\n   ==== ==== ====\n\n.. table:: p(b|c,d)\n\n   +--------+-----+-----+-----+-----+-----+-----+\n   | b\\\\c   |  0  |  1  |  0  |  1  |  0  |  1  |\n   +========+=====+=====+=====+=====+=====+=====+\n   | 0      | 0.8 | 0.5 | 0.7 | 0.3 | 0.9 | 0.2 |\n   +--------+-----+-----+-----+-----+-----+-----+\n   | 1      | 0.2 | 0.5 | 0.3 | 0.7 | 0.1 | 0.9 |\n   +--------+-----+-----+-----+-----+-----+-----+\n   | d      | 0   | 0   | 1   | 1   | 2   | 2   |\n   +--------+-----+-----+-----+-----+-----+-----+\n\n.. table:: p(e|d)\n\n   ==== ==== ==== ====\n   e\\\\d  0    1    2\n   ==== ==== ==== ====\n   0    0.1  0.7  0.0\n   1    0.1  0.3  0.0\n   2    0.2  0.0  0.0\n   3    0.3  0.0  0.0\n   4    0.3  0.0  1.0\n   ==== ==== ==== ====\n\n.. table:: p(c)\n\n   ==== ==== ====\n   c    0    1\n   ==== ==== ====\n   \\    0.2  0.8\n   ==== ==== ====\n\n.. table:: p(d)\n\n   ==== ==== ==== ====\n   d    0    1    2\n   ==== ==== ==== ====\n   \\    0.1  0.3  0.6\n   ==== ==== ==== ====\n"
      ]
    },
    {
      "cell_type": "markdown",
      "metadata": {},
      "source": [
        "## Import required packages\n\n"
      ]
    },
    {
      "cell_type": "code",
      "execution_count": null,
      "metadata": {
        "collapsed": false
      },
      "outputs": [],
      "source": [
        "import numpy as np\nimport plotly.graph_objects as go\nimport rxMsgPassing.sumProduct"
      ]
    },
    {
      "cell_type": "markdown",
      "metadata": {},
      "source": [
        "## Define probability tables\n\n"
      ]
    },
    {
      "cell_type": "code",
      "execution_count": null,
      "metadata": {
        "collapsed": false
      },
      "outputs": [],
      "source": [
        "paGb = np.array([[0.4, 0.0],  # p(a|b)\n                 [0.2, 0.1],\n                 [0.4, 0.2],\n                 [0.0, 0.7]])\n\npbGcd = np.array([[[0.8, 0.7, 0.9],  # p(b|c,d)\n                   [0.5, 0.3, 0.2]],\n                  [[0.2, 0.3, 0.1],\n                   [0.5, 0.7, 0.8]]])\n\npc = np.array([0.2, 0.8])  # p(c)\n\npd = np.array([0.1, 0.3, 0.6])  # p(d)\n\npeGd = np.array([[0.1, 0.7, 0.0],  # p(e|d)\n                 [0.1, 0.3, 0.0],\n                 [0.2, 0.0, 0.0],\n                 [0.3, 0.0, 0.0],\n                 [0.3, 0.0, 1.0]])"
      ]
    },
    {
      "cell_type": "markdown",
      "metadata": {},
      "source": [
        "## Create factor nodes\n\n"
      ]
    },
    {
      "cell_type": "code",
      "execution_count": null,
      "metadata": {
        "collapsed": false
      },
      "outputs": [],
      "source": [
        "f1_probabilities = paGb\nf1_varNames = [\"va\", \"vb\"]\nf1 = rxMsgPassing.sumProduct.FactorNode(name=\"f1\",\n                           probabilities=f1_probabilities,\n                           var_names=f1_varNames)\nf2_probabilities = pbGcd\nf2_varNames = [\"vb\", \"vc\", \"vd\"]\nf2 = rxMsgPassing.sumProduct.FactorNode(name=\"f2\",\n                           probabilities=f2_probabilities,\n                           var_names=f2_varNames)\nf3_probabilities = pc\nf3_varNames = [\"vc\"]\nf3 = rxMsgPassing.sumProduct.FactorNode(name=\"f3\",\n                           probabilities=f3_probabilities,\n                           var_names=f3_varNames)\nf4_probabilities = peGd\nf4_varNames = [\"ve\", \"vd\"]\nf4 = rxMsgPassing.sumProduct.FactorNode(name=\"f4\",\n                           probabilities=f4_probabilities,\n                           var_names=f4_varNames)\nf5_probabilities = pd\nf5_varNames = [\"vd\"]\nf5 = rxMsgPassing.sumProduct.FactorNode(name=\"f5\",\n                           probabilities=f5_probabilities,\n                           var_names=f5_varNames)"
      ]
    },
    {
      "cell_type": "markdown",
      "metadata": {},
      "source": [
        "## Create variable nodes\n\n"
      ]
    },
    {
      "cell_type": "code",
      "execution_count": null,
      "metadata": {
        "collapsed": false
      },
      "outputs": [],
      "source": [
        "va = rxMsgPassing.sumProduct.VariableNode(name=\"va\")\nvb = rxMsgPassing.sumProduct.VariableNode(name=\"vb\")\nvc = rxMsgPassing.sumProduct.VariableNode(name=\"vc\")\nvd = rxMsgPassing.sumProduct.VariableNode(name=\"vd\")\nve = rxMsgPassing.sumProduct.VariableNode(name=\"ve\")"
      ]
    },
    {
      "cell_type": "markdown",
      "metadata": {},
      "source": [
        "## Link variable nodes to factor nodes\n\n"
      ]
    },
    {
      "cell_type": "code",
      "execution_count": null,
      "metadata": {
        "collapsed": false
      },
      "outputs": [],
      "source": [
        "f1.neighbors = [va, vb]\nf2.neighbors = [vb, vc, vd]\nf3.neighbors = [vc]\nf4.neighbors = [vd, ve]\nf5.neighbors = [vd]"
      ]
    },
    {
      "cell_type": "markdown",
      "metadata": {},
      "source": [
        "## Link factor nodes to variable nodes\n\n"
      ]
    },
    {
      "cell_type": "code",
      "execution_count": null,
      "metadata": {
        "collapsed": false
      },
      "outputs": [],
      "source": [
        "va.neighbors = [f1]\nvb.neighbors = [f1, f2]\nvc.neighbors = [f2, f3]\nvd.neighbors = [f2, f4, f5]\nve.neighbors = [f4]"
      ]
    },
    {
      "cell_type": "markdown",
      "metadata": {},
      "source": [
        "## Compute marginal of a by message passing\n\n"
      ]
    },
    {
      "cell_type": "code",
      "execution_count": null,
      "metadata": {
        "collapsed": false
      },
      "outputs": [],
      "source": [
        "m_a = va.marginal()\nprint(f\"message passing: p(a)={m_a}\")"
      ]
    },
    {
      "cell_type": "markdown",
      "metadata": {},
      "source": [
        "## Computer marginal of a by brute force\n\n"
      ]
    },
    {
      "cell_type": "code",
      "execution_count": null,
      "metadata": {
        "collapsed": false
      },
      "outputs": [],
      "source": [
        "domain_a = np.arange(paGb.shape[0])\ndomain_b = np.arange(paGb.shape[1])\ndomain_c = np.arange(pbGcd.shape[1])\ndomain_d = np.arange(pbGcd.shape[2])\ndomain_e = np.arange(peGd.shape[0])\n\ndef pabcde(a, b, c, d, e):\n    answer = paGb[tuple([a, b])].item() * \\\n             pbGcd[tuple([b, c, d])].item() * \\\n             pc[c].item() * \\\n             pd[d].item() * \\\n             peGd[tuple([e, d])].item()\n    return answer\n\nbf_m_a = [None] * len(domain_a)\nfor i, a in enumerate(domain_a):\n    total = 0.0\n    for b in domain_b:\n        for c in domain_c:\n            for d in domain_d:\n                for e in domain_e:\n                    total += pabcde(a=a, b=b, c=c, d=d, e=e)\n    bf_m_a[i] = total\nprint(f\"brute force: p(a)={bf_m_a}\")"
      ]
    },
    {
      "cell_type": "markdown",
      "metadata": {},
      "source": [
        "## Plot marginals computed by message passing and brute force\n\n"
      ]
    },
    {
      "cell_type": "code",
      "execution_count": null,
      "metadata": {
        "collapsed": false
      },
      "outputs": [],
      "source": [
        "fig = go.Figure()\ntrace = go.Bar(y=m_a, name=\"Message Passing\")\nfig.add_trace(trace)\ntrace = go.Bar(y=bf_m_a, name=\"Brute Force\")\nfig.add_trace(trace)\nfig.update_xaxes(title=\"x\")\nfig.update_yaxes(title=\"p(a=x)\")\nfig"
      ]
    },
    {
      "cell_type": "markdown",
      "metadata": {},
      "source": [
        "## Test agreement between message passing and brute force marginals\n\n"
      ]
    },
    {
      "cell_type": "code",
      "execution_count": null,
      "metadata": {
        "collapsed": false
      },
      "outputs": [],
      "source": [
        "tol = 1e-6\n\nfor i in range(len(m_a)):\n    if abs(m_a[i] - bf_m_a[i]) < tol:\n        print(f\"Agreement in component {i}\")\n    else:\n        print(f\"Disagreement in component {i}\")"
      ]
    }
  ],
  "metadata": {
    "kernelspec": {
      "display_name": "Python 3",
      "language": "python",
      "name": "python3"
    },
    "language_info": {
      "codemirror_mode": {
        "name": "ipython",
        "version": 3
      },
      "file_extension": ".py",
      "mimetype": "text/x-python",
      "name": "python",
      "nbconvert_exporter": "python",
      "pygments_lexer": "ipython3",
      "version": "3.14.0"
    }
  },
  "nbformat": 4,
  "nbformat_minor": 0
}